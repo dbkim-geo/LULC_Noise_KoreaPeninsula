{
 "cells": [
  {
   "cell_type": "code",
   "execution_count": 2,
   "source": [
    "####################\n",
    "## Import Library ##\n",
    "####################\n",
    "import pandas as pd\n",
    "import numpy as np\n",
    "# import scipy.stats as stats\n",
    "# import statsmodels.api as sm\n",
    "import matplotlib.pyplot as plt\n",
    "import matplotlib as mpl\n",
    "import seaborn as sns\n",
    "\n",
    "#############################\n",
    "## Load Files and variables##\n",
    "#############################\n",
    "fpath = \"./\"#D:/KDB/work/0.자습/python/noise_landcover/\"\n",
    "filename = \"noise_landcover_buffer50m.csv\"\n",
    "\n",
    "# data description\n",
    "# - columns : \n",
    "# 0 / FID\n",
    "# 1 / Location\n",
    "# 2 ~ 3 / x,y coordinates\n",
    "# 4 ~ 5 / noise\n",
    "# 6 ~ 49 / landcover\n",
    "# 50 ~ 58 / zoning district\n",
    "# 59 / DEM\n",
    "data = pd.read_csv(fpath+filename, encoding='utf-8')\n",
    "\n",
    "###################\n",
    "## Preprocessing ##\n",
    "###################\n",
    "\n",
    "def extractNoise(noiseType, percent):\n",
    "    ## function extractNoise(\n",
    "    #   noiseType   :   string\n",
    "    #   percent     :   string\n",
    "    # )\n",
    "    ## Arguments\n",
    "    # noiseType : \n",
    "    # 'avg_daytime', 'avg_night'\n",
    "    # percent :\n",
    "    # '25%', '75%'\n",
    "    var1 = data.loc[:, noiseType]\n",
    "    condition = var1.describe().loc[percent]\n",
    "    if percent == '25%':\n",
    "        conditionOutput = data.loc[var1>=condition]\n",
    "    elif percent == '75%':\n",
    "        conditionOutput = data.loc[var1<=condition]\n",
    "    return conditionOutput\n",
    "\n",
    "\n",
    "# High & Low Noise at Daytime/Night\n",
    "highNoiseAvgDaytime = extractNoise('avg_daytime', '75%')\n",
    "lowNoiseAvgDaytime = extractNoise('avg_daytime', '25%')\n",
    "highNoiseAvgNight = extractNoise('avg_night', '75%')\n",
    "lowNoiseAvgNight = extractNoise('avg_night', '25%')\n"
   ],
   "outputs": [
    {
     "output_type": "stream",
     "name": "stdout",
     "text": [
      "    FID   Location            X            Y  avg_daytime  avg_night   LC111  \\\n3     4  부산하나한의원 앞  389583.7114  288453.8779       59.424     54.697  2281.0   \n7     8    창원삼화페인트  350023.1277  295887.9266       62.861     57.139  2738.0   \n11   12  울산패밀리 아파트  420409.8889  330038.1847       62.710     57.387   486.0   \n24   25    제주동여중입구  157194.0000  101091.0000       64.558     60.937   379.0   \n26   27  광주봉선1로 63  191673.0000  281281.0000       62.654     57.745  1693.0   \n\n     LC112  LC121   LC131  ...  UQB100  UQA320  UQA430  UQC001  UQC300  \\\n3      NaN    NaN  2290.0  ...     NaN     NaN     NaN     NaN     NaN   \n7      NaN    NaN  1568.0  ...     NaN     NaN     NaN     NaN     NaN   \n11  1429.0    NaN   376.0  ...     NaN     NaN     NaN     NaN     NaN   \n24   568.0    NaN   301.0  ...     NaN     NaN   603.0     NaN     NaN   \n26     NaN    NaN  3012.0  ...     NaN     NaN     NaN     NaN     NaN   \n\n    UQA220  UQB200  UQD001   UQA122        DEM  \n3      NaN     NaN     NaN  11664.0  43.966712  \n7      NaN     NaN     NaN   7851.0  60.259625  \n11     NaN     NaN     NaN   7851.0  72.686287  \n24     NaN     NaN     NaN   7248.0  77.796498  \n26     NaN     NaN     NaN   7847.0  68.099567  \n\n[5 rows x 60 columns]\n"
     ]
    }
   ],
   "metadata": {}
  },
  {
   "cell_type": "code",
   "execution_count": 6,
   "source": [
    "##########################\n",
    "## Statistical Analysis ##\n",
    "##########################\n",
    "## Correlation - Only Coefficient...Not p-value!!!\n",
    "corrHighNoiseAvgDaytime = highNoiseAvgDaytime.iloc[4:,4:].corr(method='pearson').iloc[:,0:2]\n",
    "corrLowNoiseAvgDaytime = lowNoiseAvgDaytime.iloc[4:,4:].corr(method='pearson').iloc[:,0:2]\n",
    "corrHighNoiseAvgNight = highNoiseAvgNight.iloc[4:,4:].corr(method='pearson').iloc[:,0:2]\n",
    "corrLowNoiseAvgNight = lowNoiseAvgNight.iloc[4:,4:].corr(method='pearson').iloc[:,0:2]\n",
    "\n",
    "corrNoiseLandCover = pd.concat([corrHighNoiseAvgDaytime, corrLowNoiseAvgDaytime, corrHighNoiseAvgNight, corrLowNoiseAvgNight], axis=1)\n",
    "corrNoiseLandCover = corrNoiseLandCover.iloc[2:, [0,2,5,7]]\n",
    "corrNoiseLandCover.columns = ['highDaytime', 'lowDaytime', 'highNight', 'lowNight']\n",
    "\n",
    "## Export output to csv file\n",
    "#corrNoiseLandCover.to_csv('./correlation_Noise_Landcover.csv', encoding='utf-8-sig')\n"
   ],
   "outputs": [],
   "metadata": {}
  },
  {
   "cell_type": "code",
   "execution_count": 146,
   "source": [
    "###############################\n",
    "## Exploratory data analysis ##\n",
    "###############################\n",
    "# box plot (noise ~ landcover)\n",
    "plt.figure(figsize=(7,6))\n",
    "# test1 = highNoiseAvgDaytime.iloc[:,2]\n",
    "# test2 = test1[~np.isnan(test1)]\n",
    "# plt.boxplot(test2)\n",
    "# plt.show()\n",
    "\n",
    "# data1 = pd.DataFrame(np.random.rand(17,3), columns=['A','B','C']).assign(Location=1)\n",
    "# data2 = pd.DataFrame(np.random.rand(17,3)+0.2, columns=['A','B','C']).assign(Location=2)\n",
    "# data3 = pd.DataFrame(np.random.rand(17,3)+0.4, columns=['A','B','C']).assign(Location=3)\n",
    "test1 = highNoiseAvgDaytime.loc[:,'LC111']\n",
    "data1 = test1[~np.isnan(test1)]\n",
    "test2 = highNoiseAvgNight.loc[:,'LC111']\n",
    "data2 = test2[~np.isnan(test2)]\n",
    "test3 = lowNoiseAvgDaytime.loc[:,'LC111']\n",
    "data3 = test3[~np.isnan(test3)]\n",
    "cdf = pd.concat([data1, data2, data3])\n",
    "# mdf = pd.melt(cdf, id_vars=['Location'], var_name=['Letter'])\n",
    "# print(mdf.head())\n",
    "\n",
    "#    Location Letter     value\n",
    "# 0         1      A  0.223565\n",
    "# 1         1      A  0.515797\n",
    "# 2         1      A  0.377588\n",
    "# 3         1      A  0.687614\n",
    "# 4         1      A  0.094116\n",
    "\n",
    "ax = sns.boxplot(by=cdf)\n",
    "plt.show()"
   ],
   "outputs": [
    {
     "output_type": "display_data",
     "data": {
      "text/plain": "<Figure size 700x600 with 1 Axes>",
      "image/svg+xml": "<?xml version=\"1.0\" encoding=\"utf-8\" standalone=\"no\"?>\r\n<!DOCTYPE svg PUBLIC \"-//W3C//DTD SVG 1.1//EN\"\r\n  \"http://www.w3.org/Graphics/SVG/1.1/DTD/svg11.dtd\">\r\n<svg height=\"370.212812pt\" version=\"1.1\" viewBox=\"0 0 431.08375 370.212812\" width=\"431.08375pt\" xmlns=\"http://www.w3.org/2000/svg\" xmlns:xlink=\"http://www.w3.org/1999/xlink\">\r\n <metadata>\r\n  <rdf:RDF xmlns:cc=\"http://creativecommons.org/ns#\" xmlns:dc=\"http://purl.org/dc/elements/1.1/\" xmlns:rdf=\"http://www.w3.org/1999/02/22-rdf-syntax-ns#\">\r\n   <cc:Work>\r\n    <dc:type rdf:resource=\"http://purl.org/dc/dcmitype/StillImage\"/>\r\n    <dc:date>2021-07-13T23:40:43.608099</dc:date>\r\n    <dc:format>image/svg+xml</dc:format>\r\n    <dc:creator>\r\n     <cc:Agent>\r\n      <dc:title>Matplotlib v3.4.2, https://matplotlib.org/</dc:title>\r\n     </cc:Agent>\r\n    </dc:creator>\r\n   </cc:Work>\r\n  </rdf:RDF>\r\n </metadata>\r\n <defs>\r\n  <style type=\"text/css\">*{stroke-linecap:butt;stroke-linejoin:round;}</style>\r\n </defs>\r\n <g id=\"figure_1\">\r\n  <g id=\"patch_1\">\r\n   <path d=\"M 0 370.212812 \r\nL 431.08375 370.212812 \r\nL 431.08375 0 \r\nL 0 0 \r\nz\r\n\" style=\"fill:#ffffff;\"/>\r\n  </g>\r\n  <g id=\"axes_1\">\r\n   <g id=\"patch_2\">\r\n    <path d=\"M 33.28375 344.399062 \r\nL 423.88375 344.399062 \r\nL 423.88375 11.759062 \r\nL 33.28375 11.759062 \r\nz\r\n\" style=\"fill:#ffffff;\"/>\r\n   </g>\r\n   <g id=\"matplotlib.axis_1\">\r\n    <g id=\"xtick_1\">\r\n     <g id=\"line2d_1\">\r\n      <defs>\r\n       <path d=\"M 0 0 \r\nL 0 3.5 \r\n\" id=\"m7f9ae111dd\" style=\"stroke:#000000;stroke-width:0.8;\"/>\r\n      </defs>\r\n      <g>\r\n       <use style=\"stroke:#000000;stroke-width:0.8;\" x=\"228.58375\" xlink:href=\"#m7f9ae111dd\" y=\"344.399062\"/>\r\n      </g>\r\n     </g>\r\n     <g id=\"text_1\">\r\n      <!-- 0 -->\r\n      <g transform=\"translate(224.76625 360.517187)scale(0.12 -0.12)\">\r\n       <defs>\r\n        <path d=\"M 2034 4250 \r\nQ 1547 4250 1301 3770 \r\nQ 1056 3291 1056 2328 \r\nQ 1056 1369 1301 889 \r\nQ 1547 409 2034 409 \r\nQ 2525 409 2770 889 \r\nQ 3016 1369 3016 2328 \r\nQ 3016 3291 2770 3770 \r\nQ 2525 4250 2034 4250 \r\nz\r\nM 2034 4750 \r\nQ 2819 4750 3233 4129 \r\nQ 3647 3509 3647 2328 \r\nQ 3647 1150 3233 529 \r\nQ 2819 -91 2034 -91 \r\nQ 1250 -91 836 529 \r\nQ 422 1150 422 2328 \r\nQ 422 3509 836 4129 \r\nQ 1250 4750 2034 4750 \r\nz\r\n\" id=\"DejaVuSans-30\" transform=\"scale(0.015625)\"/>\r\n       </defs>\r\n       <use xlink:href=\"#DejaVuSans-30\"/>\r\n      </g>\r\n     </g>\r\n    </g>\r\n   </g>\r\n   <g id=\"matplotlib.axis_2\">\r\n    <g id=\"ytick_1\">\r\n     <g id=\"line2d_2\">\r\n      <defs>\r\n       <path d=\"M 0 0 \r\nL -3.5 0 \r\n\" id=\"m8373a6b282\" style=\"stroke:#000000;stroke-width:0.8;\"/>\r\n      </defs>\r\n      <g>\r\n       <use style=\"stroke:#000000;stroke-width:0.8;\" x=\"33.28375\" xlink:href=\"#m8373a6b282\" y=\"344.399062\"/>\r\n      </g>\r\n     </g>\r\n     <g id=\"text_2\">\r\n      <!-- 0.0 -->\r\n      <g transform=\"translate(7.2 348.958125)scale(0.12 -0.12)\">\r\n       <defs>\r\n        <path d=\"M 684 794 \r\nL 1344 794 \r\nL 1344 0 \r\nL 684 0 \r\nL 684 794 \r\nz\r\n\" id=\"DejaVuSans-2e\" transform=\"scale(0.015625)\"/>\r\n       </defs>\r\n       <use xlink:href=\"#DejaVuSans-30\"/>\r\n       <use x=\"63.623047\" xlink:href=\"#DejaVuSans-2e\"/>\r\n       <use x=\"95.410156\" xlink:href=\"#DejaVuSans-30\"/>\r\n      </g>\r\n     </g>\r\n    </g>\r\n    <g id=\"ytick_2\">\r\n     <g id=\"line2d_3\">\r\n      <g>\r\n       <use style=\"stroke:#000000;stroke-width:0.8;\" x=\"33.28375\" xlink:href=\"#m8373a6b282\" y=\"277.871062\"/>\r\n      </g>\r\n     </g>\r\n     <g id=\"text_3\">\r\n      <!-- 0.2 -->\r\n      <g transform=\"translate(7.2 282.430125)scale(0.12 -0.12)\">\r\n       <defs>\r\n        <path d=\"M 1228 531 \r\nL 3431 531 \r\nL 3431 0 \r\nL 469 0 \r\nL 469 531 \r\nQ 828 903 1448 1529 \r\nQ 2069 2156 2228 2338 \r\nQ 2531 2678 2651 2914 \r\nQ 2772 3150 2772 3378 \r\nQ 2772 3750 2511 3984 \r\nQ 2250 4219 1831 4219 \r\nQ 1534 4219 1204 4116 \r\nQ 875 4013 500 3803 \r\nL 500 4441 \r\nQ 881 4594 1212 4672 \r\nQ 1544 4750 1819 4750 \r\nQ 2544 4750 2975 4387 \r\nQ 3406 4025 3406 3419 \r\nQ 3406 3131 3298 2873 \r\nQ 3191 2616 2906 2266 \r\nQ 2828 2175 2409 1742 \r\nQ 1991 1309 1228 531 \r\nz\r\n\" id=\"DejaVuSans-32\" transform=\"scale(0.015625)\"/>\r\n       </defs>\r\n       <use xlink:href=\"#DejaVuSans-30\"/>\r\n       <use x=\"63.623047\" xlink:href=\"#DejaVuSans-2e\"/>\r\n       <use x=\"95.410156\" xlink:href=\"#DejaVuSans-32\"/>\r\n      </g>\r\n     </g>\r\n    </g>\r\n    <g id=\"ytick_3\">\r\n     <g id=\"line2d_4\">\r\n      <g>\r\n       <use style=\"stroke:#000000;stroke-width:0.8;\" x=\"33.28375\" xlink:href=\"#m8373a6b282\" y=\"211.343062\"/>\r\n      </g>\r\n     </g>\r\n     <g id=\"text_4\">\r\n      <!-- 0.4 -->\r\n      <g transform=\"translate(7.2 215.902125)scale(0.12 -0.12)\">\r\n       <defs>\r\n        <path d=\"M 2419 4116 \r\nL 825 1625 \r\nL 2419 1625 \r\nL 2419 4116 \r\nz\r\nM 2253 4666 \r\nL 3047 4666 \r\nL 3047 1625 \r\nL 3713 1625 \r\nL 3713 1100 \r\nL 3047 1100 \r\nL 3047 0 \r\nL 2419 0 \r\nL 2419 1100 \r\nL 313 1100 \r\nL 313 1709 \r\nL 2253 4666 \r\nz\r\n\" id=\"DejaVuSans-34\" transform=\"scale(0.015625)\"/>\r\n       </defs>\r\n       <use xlink:href=\"#DejaVuSans-30\"/>\r\n       <use x=\"63.623047\" xlink:href=\"#DejaVuSans-2e\"/>\r\n       <use x=\"95.410156\" xlink:href=\"#DejaVuSans-34\"/>\r\n      </g>\r\n     </g>\r\n    </g>\r\n    <g id=\"ytick_4\">\r\n     <g id=\"line2d_5\">\r\n      <g>\r\n       <use style=\"stroke:#000000;stroke-width:0.8;\" x=\"33.28375\" xlink:href=\"#m8373a6b282\" y=\"144.815062\"/>\r\n      </g>\r\n     </g>\r\n     <g id=\"text_5\">\r\n      <!-- 0.6 -->\r\n      <g transform=\"translate(7.2 149.374125)scale(0.12 -0.12)\">\r\n       <defs>\r\n        <path d=\"M 2113 2584 \r\nQ 1688 2584 1439 2293 \r\nQ 1191 2003 1191 1497 \r\nQ 1191 994 1439 701 \r\nQ 1688 409 2113 409 \r\nQ 2538 409 2786 701 \r\nQ 3034 994 3034 1497 \r\nQ 3034 2003 2786 2293 \r\nQ 2538 2584 2113 2584 \r\nz\r\nM 3366 4563 \r\nL 3366 3988 \r\nQ 3128 4100 2886 4159 \r\nQ 2644 4219 2406 4219 \r\nQ 1781 4219 1451 3797 \r\nQ 1122 3375 1075 2522 \r\nQ 1259 2794 1537 2939 \r\nQ 1816 3084 2150 3084 \r\nQ 2853 3084 3261 2657 \r\nQ 3669 2231 3669 1497 \r\nQ 3669 778 3244 343 \r\nQ 2819 -91 2113 -91 \r\nQ 1303 -91 875 529 \r\nQ 447 1150 447 2328 \r\nQ 447 3434 972 4092 \r\nQ 1497 4750 2381 4750 \r\nQ 2619 4750 2861 4703 \r\nQ 3103 4656 3366 4563 \r\nz\r\n\" id=\"DejaVuSans-36\" transform=\"scale(0.015625)\"/>\r\n       </defs>\r\n       <use xlink:href=\"#DejaVuSans-30\"/>\r\n       <use x=\"63.623047\" xlink:href=\"#DejaVuSans-2e\"/>\r\n       <use x=\"95.410156\" xlink:href=\"#DejaVuSans-36\"/>\r\n      </g>\r\n     </g>\r\n    </g>\r\n    <g id=\"ytick_5\">\r\n     <g id=\"line2d_6\">\r\n      <g>\r\n       <use style=\"stroke:#000000;stroke-width:0.8;\" x=\"33.28375\" xlink:href=\"#m8373a6b282\" y=\"78.287062\"/>\r\n      </g>\r\n     </g>\r\n     <g id=\"text_6\">\r\n      <!-- 0.8 -->\r\n      <g transform=\"translate(7.2 82.846125)scale(0.12 -0.12)\">\r\n       <defs>\r\n        <path d=\"M 2034 2216 \r\nQ 1584 2216 1326 1975 \r\nQ 1069 1734 1069 1313 \r\nQ 1069 891 1326 650 \r\nQ 1584 409 2034 409 \r\nQ 2484 409 2743 651 \r\nQ 3003 894 3003 1313 \r\nQ 3003 1734 2745 1975 \r\nQ 2488 2216 2034 2216 \r\nz\r\nM 1403 2484 \r\nQ 997 2584 770 2862 \r\nQ 544 3141 544 3541 \r\nQ 544 4100 942 4425 \r\nQ 1341 4750 2034 4750 \r\nQ 2731 4750 3128 4425 \r\nQ 3525 4100 3525 3541 \r\nQ 3525 3141 3298 2862 \r\nQ 3072 2584 2669 2484 \r\nQ 3125 2378 3379 2068 \r\nQ 3634 1759 3634 1313 \r\nQ 3634 634 3220 271 \r\nQ 2806 -91 2034 -91 \r\nQ 1263 -91 848 271 \r\nQ 434 634 434 1313 \r\nQ 434 1759 690 2068 \r\nQ 947 2378 1403 2484 \r\nz\r\nM 1172 3481 \r\nQ 1172 3119 1398 2916 \r\nQ 1625 2713 2034 2713 \r\nQ 2441 2713 2670 2916 \r\nQ 2900 3119 2900 3481 \r\nQ 2900 3844 2670 4047 \r\nQ 2441 4250 2034 4250 \r\nQ 1625 4250 1398 4047 \r\nQ 1172 3844 1172 3481 \r\nz\r\n\" id=\"DejaVuSans-38\" transform=\"scale(0.015625)\"/>\r\n       </defs>\r\n       <use xlink:href=\"#DejaVuSans-30\"/>\r\n       <use x=\"63.623047\" xlink:href=\"#DejaVuSans-2e\"/>\r\n       <use x=\"95.410156\" xlink:href=\"#DejaVuSans-38\"/>\r\n      </g>\r\n     </g>\r\n    </g>\r\n    <g id=\"ytick_6\">\r\n     <g id=\"line2d_7\">\r\n      <g>\r\n       <use style=\"stroke:#000000;stroke-width:0.8;\" x=\"33.28375\" xlink:href=\"#m8373a6b282\" y=\"11.759062\"/>\r\n      </g>\r\n     </g>\r\n     <g id=\"text_7\">\r\n      <!-- 1.0 -->\r\n      <g transform=\"translate(7.2 16.318125)scale(0.12 -0.12)\">\r\n       <defs>\r\n        <path d=\"M 794 531 \r\nL 1825 531 \r\nL 1825 4091 \r\nL 703 3866 \r\nL 703 4441 \r\nL 1819 4666 \r\nL 2450 4666 \r\nL 2450 531 \r\nL 3481 531 \r\nL 3481 0 \r\nL 794 0 \r\nL 794 531 \r\nz\r\n\" id=\"DejaVuSans-31\" transform=\"scale(0.015625)\"/>\r\n       </defs>\r\n       <use xlink:href=\"#DejaVuSans-31\"/>\r\n       <use x=\"63.623047\" xlink:href=\"#DejaVuSans-2e\"/>\r\n       <use x=\"95.410156\" xlink:href=\"#DejaVuSans-30\"/>\r\n      </g>\r\n     </g>\r\n    </g>\r\n   </g>\r\n   <g id=\"patch_3\">\r\n    <path d=\"M 33.28375 344.399062 \r\nL 33.28375 11.759062 \r\n\" style=\"fill:none;stroke:#000000;stroke-linecap:square;stroke-linejoin:miter;stroke-width:0.8;\"/>\r\n   </g>\r\n   <g id=\"patch_4\">\r\n    <path d=\"M 423.88375 344.399062 \r\nL 423.88375 11.759062 \r\n\" style=\"fill:none;stroke:#000000;stroke-linecap:square;stroke-linejoin:miter;stroke-width:0.8;\"/>\r\n   </g>\r\n   <g id=\"patch_5\">\r\n    <path d=\"M 33.28375 344.399062 \r\nL 423.88375 344.399062 \r\n\" style=\"fill:none;stroke:#000000;stroke-linecap:square;stroke-linejoin:miter;stroke-width:0.8;\"/>\r\n   </g>\r\n   <g id=\"patch_6\">\r\n    <path d=\"M 33.28375 11.759062 \r\nL 423.88375 11.759062 \r\n\" style=\"fill:none;stroke:#000000;stroke-linecap:square;stroke-linejoin:miter;stroke-width:0.8;\"/>\r\n   </g>\r\n  </g>\r\n </g>\r\n</svg>\r\n",
      "image/png": "[encoded data removed]"
     },
     "metadata": {}
    }
   ],
   "metadata": {}
  }
 ],
 "metadata": {
  "orig_nbformat": 4,
  "language_info": {
   "name": "python",
   "version": "3.9.6"
  },
  "kernelspec": {
   "name": "python3",
   "display_name": "Python 3.9.6 64-bit"
  },
  "interpreter": {
   "hash": "86ba231e64e5a6d0ad1df9b351fc1a0d83239a8c159a50f8c06f031c8dc9617c"
  }
 },
 "nbformat": 4,
 "nbformat_minor": 2
}