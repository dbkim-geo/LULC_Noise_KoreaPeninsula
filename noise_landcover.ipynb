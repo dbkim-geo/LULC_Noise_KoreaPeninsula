{
 "cells": [
  {
   "cell_type": "code",
   "execution_count": 115,
   "source": [
    "####################\r\n",
    "## Import Library ##\r\n",
    "####################\r\n",
    "import pandas as pd\r\n",
    "import numpy as np\r\n",
    "# import scipy.stats as stats\r\n",
    "# import statsmodels.api as sm\r\n",
    "#import matplotlib.pyplot as plt\r\n",
    "#import seaborn as sns\r\n",
    "\r\n",
    "#############################\r\n",
    "## Load Files and variables##\r\n",
    "#############################\r\n",
    "data = pd.read_csv(\"./noise_landcover_buffer50m.csv\", encoding='utf-8')\r\n",
    "\r\n",
    "###################\r\n",
    "## Preprocessing ##\r\n",
    "###################\r\n",
    "def extractNoise(noiseType, percent):\r\n",
    "    ## function extractNoise(\r\n",
    "    #   noiseType   :   string\r\n",
    "    #   percent     :   string\r\n",
    "    # )\r\n",
    "    ## Arguments\r\n",
    "    # noiseType : \r\n",
    "    # 'avg_daytime', 'avg_night'\r\n",
    "    # percent :\r\n",
    "    # '25%', '75%'\r\n",
    "    var1 = data.loc[:, noiseType]\r\n",
    "    condition = var1.describe().loc[percent]\r\n",
    "    if percent == '25%':\r\n",
    "        conditionOutput = data.loc[var1>=condition]\r\n",
    "    elif percent == '75%':\r\n",
    "        conditionOutput = data.loc[var1<=condition]\r\n",
    "    return conditionOutput\r\n",
    "\r\n",
    "highNoiseAvgDaytime = extractNoise('avg_daytime', '75%')\r\n",
    "lowNoiseAvgDaytime = extractNoise('avg_daytime', '25%')\r\n",
    "highNoiseAvgNight = extractNoise('avg_night', '75%')\r\n",
    "lowNoiseAvgNight = extractNoise('avg_night', '25%')\r\n"
   ],
   "outputs": [],
   "metadata": {}
  },
  {
   "cell_type": "code",
   "execution_count": 120,
   "source": [
    "## Statistical Analysis\r\n",
    "## Correlation - Only Coefficient...Not p-value!!!\r\n",
    "corrHighNoiseAvgDaytime = highNoiseAvgDaytime.iloc[4:,4:].corr(method='pearson').iloc[:,0:2]\r\n",
    "corrLowNoiseAvgDaytime = lowNoiseAvgDaytime.iloc[4:,4:].corr(method='pearson').iloc[:,0:2]\r\n",
    "corrHighNoiseAvgNight = highNoiseAvgNight.iloc[4:,4:].corr(method='pearson').iloc[:,0:2]\r\n",
    "corrLowNoiseAvgNight = lowNoiseAvgNight.iloc[4:,4:].corr(method='pearson').iloc[:,0:2]\r\n",
    "\r\n",
    "corrNoiseLandCover = pd.concat([corrHighNoiseAvgDaytime, corrLowNoiseAvgDaytime, corrHighNoiseAvgNight, corrLowNoiseAvgNight], axis=1)\r\n",
    "corrNoiseLandCover = corrNoiseLandCover.iloc[2:, [0,2,5,7]]\r\n",
    "corrNoiseLandCover.columns = ['highDaytime', 'lowDaytime', 'highNight', 'lowNight']\r\n",
    "\r\n",
    "\r\n",
    "## Export output to csv file\r\n",
    "#corrNoiseLandCover.to_csv('./correlation_Noise_Landcover.csv', encoding='utf-8-sig')"
   ],
   "outputs": [],
   "metadata": {}
  }
 ],
 "metadata": {
  "orig_nbformat": 4,
  "language_info": {
   "name": "python",
   "version": "3.8.9"
  },
  "kernelspec": {
   "name": "python3",
   "display_name": "Python 3.8.9 64-bit"
  },
  "interpreter": {
   "hash": "5e8511e8f39f735f96b8bbf21632d4985e322eccee7a9678819442ae31072294"
  }
 },
 "nbformat": 4,
 "nbformat_minor": 2
}